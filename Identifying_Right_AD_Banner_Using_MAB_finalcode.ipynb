{
  "nbformat": 4,
  "nbformat_minor": 0,
  "metadata": {
    "kernelspec": {
      "display_name": "Python 3",
      "language": "python",
      "name": "python3"
    },
    "language_info": {
      "codemirror_mode": {
        "name": "ipython",
        "version": 3
      },
      "file_extension": ".py",
      "mimetype": "text/x-python",
      "name": "python",
      "nbconvert_exporter": "python",
      "pygments_lexer": "ipython3",
      "version": "3.7.6"
    },
    "colab": {
      "name": "Identifying Right AD Banner Using MAB.ipynb",
      "provenance": []
    }
  },
  "cells": [
    {
      "cell_type": "markdown",
      "metadata": {
        "id": "VkeYfqFvRbe9"
      },
      "source": [
        "# Identifying Right AD Banner Using MAB"
      ]
    },
    {
      "cell_type": "markdown",
      "metadata": {
        "id": "oIyowi6ARbe_"
      },
      "source": [
        "\n",
        "\n",
        "Let us say you are running a website and you have five different banners for the same ad and you want to know which banner attracts the user? We model this problem statement as a bandit problem. Let us say these five banners are five bandits and we assign reward 1 if the user clicks the ad and reward 0 if the user does not click the ad.\n",
        "\n",
        "In a normal A/B testing, we perform complete exploration of all these five banners alone before deciding which banner is the best. But that will cost us lot of regret. Instead, we will use good exploration strategy for deciding which banner will give us most rewards (most clicks)"
      ]
    },
    {
      "cell_type": "markdown",
      "metadata": {
        "collapsed": true,
        "id": "kdQqFCHZRbe_"
      },
      "source": [
        " First, let us import necessary libraries"
      ]
    },
    {
      "cell_type": "code",
      "metadata": {
        "colab": {
          "base_uri": "https://localhost:8080/"
        },
        "id": "GnNH1ExZR007",
        "outputId": "83e39223-7b63-499c-def6-10c19847fb7c"
      },
      "source": [
        "!pip install gym_bandits"
      ],
      "execution_count": null,
      "outputs": [
        {
          "output_type": "stream",
          "text": [
            "Collecting gym_bandits\n",
            "  Downloading https://files.pythonhosted.org/packages/e7/0e/9212772740f18a1e057a392ecdd78f9034b36f3e608a145d3e16cdb7862e/gym_bandits-0.0.1-py3-none-any.whl\n",
            "Requirement already satisfied: numpy in /usr/local/lib/python3.7/dist-packages (from gym_bandits) (1.19.5)\n",
            "Requirement already satisfied: gym in /usr/local/lib/python3.7/dist-packages (from gym_bandits) (0.17.3)\n",
            "Requirement already satisfied: pyglet<=1.5.0,>=1.4.0 in /usr/local/lib/python3.7/dist-packages (from gym->gym_bandits) (1.5.0)\n",
            "Requirement already satisfied: cloudpickle<1.7.0,>=1.2.0 in /usr/local/lib/python3.7/dist-packages (from gym->gym_bandits) (1.3.0)\n",
            "Requirement already satisfied: scipy in /usr/local/lib/python3.7/dist-packages (from gym->gym_bandits) (1.4.1)\n",
            "Requirement already satisfied: future in /usr/local/lib/python3.7/dist-packages (from pyglet<=1.5.0,>=1.4.0->gym->gym_bandits) (0.16.0)\n",
            "Installing collected packages: gym-bandits\n",
            "Successfully installed gym-bandits-0.0.1\n"
          ],
          "name": "stdout"
        }
      ]
    },
    {
      "cell_type": "code",
      "metadata": {
        "colab": {
          "base_uri": "https://localhost:8080/"
        },
        "id": "9pVrPAfRIeH-",
        "outputId": "b0e2c889-6a3c-4259-d210-59feae65a232"
      },
      "source": [
        "!pip3 install --upgrade git+git://github.com/JKCooper2/gym-bandits.git"
      ],
      "execution_count": null,
      "outputs": [
        {
          "output_type": "stream",
          "text": [
            "Collecting git+git://github.com/JKCooper2/gym-bandits.git\n",
            "  Cloning git://github.com/JKCooper2/gym-bandits.git to /tmp/pip-req-build-0r2j6_ou\n",
            "  Running command git clone -q git://github.com/JKCooper2/gym-bandits.git /tmp/pip-req-build-0r2j6_ou\n",
            "Requirement already satisfied, skipping upgrade: gym in /usr/local/lib/python3.7/dist-packages (from gym-bandits==0.0.2) (0.17.3)\n",
            "Requirement already satisfied, skipping upgrade: cloudpickle<1.7.0,>=1.2.0 in /usr/local/lib/python3.7/dist-packages (from gym->gym-bandits==0.0.2) (1.3.0)\n",
            "Requirement already satisfied, skipping upgrade: numpy>=1.10.4 in /usr/local/lib/python3.7/dist-packages (from gym->gym-bandits==0.0.2) (1.19.5)\n",
            "Requirement already satisfied, skipping upgrade: pyglet<=1.5.0,>=1.4.0 in /usr/local/lib/python3.7/dist-packages (from gym->gym-bandits==0.0.2) (1.5.0)\n",
            "Requirement already satisfied, skipping upgrade: scipy in /usr/local/lib/python3.7/dist-packages (from gym->gym-bandits==0.0.2) (1.4.1)\n",
            "Requirement already satisfied, skipping upgrade: future in /usr/local/lib/python3.7/dist-packages (from pyglet<=1.5.0,>=1.4.0->gym->gym-bandits==0.0.2) (0.16.0)\n",
            "Building wheels for collected packages: gym-bandits\n",
            "  Building wheel for gym-bandits (setup.py) ... \u001b[?25l\u001b[?25hdone\n",
            "  Created wheel for gym-bandits: filename=gym_bandits-0.0.2-cp37-none-any.whl size=5193 sha256=e56701026ec0c2bb2ef9249b81bf444fe1a6dd3084f168dc8cc361c0ba511a05\n",
            "  Stored in directory: /tmp/pip-ephem-wheel-cache-i1jxk5rd/wheels/1b/e9/fb/53d13423049f148014d613617d9110a7a05973804b422030cf\n",
            "Successfully built gym-bandits\n",
            "Installing collected packages: gym-bandits\n",
            "  Found existing installation: gym-bandits 0.0.1\n",
            "    Uninstalling gym-bandits-0.0.1:\n",
            "      Successfully uninstalled gym-bandits-0.0.1\n",
            "Successfully installed gym-bandits-0.0.2\n"
          ],
          "name": "stdout"
        }
      ]
    },
    {
      "cell_type": "code",
      "metadata": {
        "id": "x1RiPWAFRbe_"
      },
      "source": [
        "import gym_bandits\n",
        "import gym\n",
        "import numpy as np\n",
        "import pandas as pd\n",
        "import matplotlib.pyplot as plt\n",
        "%matplotlib inline\n",
        "import seaborn as sns\n",
        "env = gym.make(\"BanditTenArmedGaussian-v0\")"
      ],
      "execution_count": null,
      "outputs": []
    },
    {
      "cell_type": "markdown",
      "metadata": {
        "collapsed": true,
        "scrolled": true,
        "id": "pMZAi8oHRbfA"
      },
      "source": [
        "Let us simulate a dataset with 5*10000 as shape where the column is the ad banner type and rows are either 0 or 1 i.e whether the ad has been clicked or not clicked by the user respectively\n",
        "\n"
      ]
    },
    {
      "cell_type": "code",
      "metadata": {
        "id": "xnqgKcH2RbfB"
      },
      "source": [
        "df = pd.DataFrame()\n",
        "df['Banner_type_0'] = np.random.randint(0,2,100000)\n",
        "df['Banner_type_1'] = np.random.randint(0,2,100000)\n",
        "df['Banner_type_2'] = np.random.randint(0,2,100000)\n",
        "df['Banner_type_3'] = np.random.randint(0,2,100000)\n",
        "df['Banner_type_4'] = np.random.randint(0,2,100000)"
      ],
      "execution_count": null,
      "outputs": []
    },
    {
      "cell_type": "code",
      "metadata": {
        "scrolled": true,
        "id": "Kx0rdrmmRbfB",
        "colab": {
          "base_uri": "https://localhost:8080/",
          "height": 622
        },
        "outputId": "2732ecb8-49f3-4246-de00-5a2b49f00bb6"
      },
      "source": [
        "df.head(20)"
      ],
      "execution_count": null,
      "outputs": [
        {
          "output_type": "execute_result",
          "data": {
            "text/html": [
              "<div>\n",
              "<style scoped>\n",
              "    .dataframe tbody tr th:only-of-type {\n",
              "        vertical-align: middle;\n",
              "    }\n",
              "\n",
              "    .dataframe tbody tr th {\n",
              "        vertical-align: top;\n",
              "    }\n",
              "\n",
              "    .dataframe thead th {\n",
              "        text-align: right;\n",
              "    }\n",
              "</style>\n",
              "<table border=\"1\" class=\"dataframe\">\n",
              "  <thead>\n",
              "    <tr style=\"text-align: right;\">\n",
              "      <th></th>\n",
              "      <th>Banner_type_0</th>\n",
              "      <th>Banner_type_1</th>\n",
              "      <th>Banner_type_2</th>\n",
              "      <th>Banner_type_3</th>\n",
              "      <th>Banner_type_4</th>\n",
              "    </tr>\n",
              "  </thead>\n",
              "  <tbody>\n",
              "    <tr>\n",
              "      <th>0</th>\n",
              "      <td>0</td>\n",
              "      <td>1</td>\n",
              "      <td>1</td>\n",
              "      <td>0</td>\n",
              "      <td>1</td>\n",
              "    </tr>\n",
              "    <tr>\n",
              "      <th>1</th>\n",
              "      <td>0</td>\n",
              "      <td>1</td>\n",
              "      <td>0</td>\n",
              "      <td>1</td>\n",
              "      <td>1</td>\n",
              "    </tr>\n",
              "    <tr>\n",
              "      <th>2</th>\n",
              "      <td>1</td>\n",
              "      <td>0</td>\n",
              "      <td>0</td>\n",
              "      <td>1</td>\n",
              "      <td>0</td>\n",
              "    </tr>\n",
              "    <tr>\n",
              "      <th>3</th>\n",
              "      <td>1</td>\n",
              "      <td>1</td>\n",
              "      <td>1</td>\n",
              "      <td>0</td>\n",
              "      <td>1</td>\n",
              "    </tr>\n",
              "    <tr>\n",
              "      <th>4</th>\n",
              "      <td>1</td>\n",
              "      <td>1</td>\n",
              "      <td>0</td>\n",
              "      <td>1</td>\n",
              "      <td>1</td>\n",
              "    </tr>\n",
              "    <tr>\n",
              "      <th>5</th>\n",
              "      <td>0</td>\n",
              "      <td>1</td>\n",
              "      <td>0</td>\n",
              "      <td>1</td>\n",
              "      <td>1</td>\n",
              "    </tr>\n",
              "    <tr>\n",
              "      <th>6</th>\n",
              "      <td>0</td>\n",
              "      <td>0</td>\n",
              "      <td>1</td>\n",
              "      <td>1</td>\n",
              "      <td>1</td>\n",
              "    </tr>\n",
              "    <tr>\n",
              "      <th>7</th>\n",
              "      <td>0</td>\n",
              "      <td>0</td>\n",
              "      <td>0</td>\n",
              "      <td>1</td>\n",
              "      <td>1</td>\n",
              "    </tr>\n",
              "    <tr>\n",
              "      <th>8</th>\n",
              "      <td>1</td>\n",
              "      <td>1</td>\n",
              "      <td>1</td>\n",
              "      <td>0</td>\n",
              "      <td>1</td>\n",
              "    </tr>\n",
              "    <tr>\n",
              "      <th>9</th>\n",
              "      <td>1</td>\n",
              "      <td>1</td>\n",
              "      <td>1</td>\n",
              "      <td>0</td>\n",
              "      <td>0</td>\n",
              "    </tr>\n",
              "    <tr>\n",
              "      <th>10</th>\n",
              "      <td>1</td>\n",
              "      <td>1</td>\n",
              "      <td>1</td>\n",
              "      <td>0</td>\n",
              "      <td>0</td>\n",
              "    </tr>\n",
              "    <tr>\n",
              "      <th>11</th>\n",
              "      <td>0</td>\n",
              "      <td>0</td>\n",
              "      <td>0</td>\n",
              "      <td>0</td>\n",
              "      <td>1</td>\n",
              "    </tr>\n",
              "    <tr>\n",
              "      <th>12</th>\n",
              "      <td>0</td>\n",
              "      <td>0</td>\n",
              "      <td>0</td>\n",
              "      <td>1</td>\n",
              "      <td>1</td>\n",
              "    </tr>\n",
              "    <tr>\n",
              "      <th>13</th>\n",
              "      <td>0</td>\n",
              "      <td>1</td>\n",
              "      <td>0</td>\n",
              "      <td>0</td>\n",
              "      <td>1</td>\n",
              "    </tr>\n",
              "    <tr>\n",
              "      <th>14</th>\n",
              "      <td>0</td>\n",
              "      <td>1</td>\n",
              "      <td>0</td>\n",
              "      <td>1</td>\n",
              "      <td>0</td>\n",
              "    </tr>\n",
              "    <tr>\n",
              "      <th>15</th>\n",
              "      <td>1</td>\n",
              "      <td>0</td>\n",
              "      <td>1</td>\n",
              "      <td>1</td>\n",
              "      <td>0</td>\n",
              "    </tr>\n",
              "    <tr>\n",
              "      <th>16</th>\n",
              "      <td>1</td>\n",
              "      <td>0</td>\n",
              "      <td>0</td>\n",
              "      <td>1</td>\n",
              "      <td>0</td>\n",
              "    </tr>\n",
              "    <tr>\n",
              "      <th>17</th>\n",
              "      <td>1</td>\n",
              "      <td>0</td>\n",
              "      <td>1</td>\n",
              "      <td>1</td>\n",
              "      <td>0</td>\n",
              "    </tr>\n",
              "    <tr>\n",
              "      <th>18</th>\n",
              "      <td>0</td>\n",
              "      <td>1</td>\n",
              "      <td>0</td>\n",
              "      <td>0</td>\n",
              "      <td>1</td>\n",
              "    </tr>\n",
              "    <tr>\n",
              "      <th>19</th>\n",
              "      <td>0</td>\n",
              "      <td>0</td>\n",
              "      <td>0</td>\n",
              "      <td>0</td>\n",
              "      <td>1</td>\n",
              "    </tr>\n",
              "  </tbody>\n",
              "</table>\n",
              "</div>"
            ],
            "text/plain": [
              "    Banner_type_0  Banner_type_1  Banner_type_2  Banner_type_3  Banner_type_4\n",
              "0               0              1              1              0              1\n",
              "1               0              1              0              1              1\n",
              "2               1              0              0              1              0\n",
              "3               1              1              1              0              1\n",
              "4               1              1              0              1              1\n",
              "5               0              1              0              1              1\n",
              "6               0              0              1              1              1\n",
              "7               0              0              0              1              1\n",
              "8               1              1              1              0              1\n",
              "9               1              1              1              0              0\n",
              "10              1              1              1              0              0\n",
              "11              0              0              0              0              1\n",
              "12              0              0              0              1              1\n",
              "13              0              1              0              0              1\n",
              "14              0              1              0              1              0\n",
              "15              1              0              1              1              0\n",
              "16              1              0              0              1              0\n",
              "17              1              0              1              1              0\n",
              "18              0              1              0              0              1\n",
              "19              0              0              0              0              1"
            ]
          },
          "metadata": {
            "tags": []
          },
          "execution_count": 18
        }
      ]
    },
    {
      "cell_type": "markdown",
      "metadata": {
        "id": "pnEFs6mpRbfB"
      },
      "source": [
        "First, let us initialize necessary variables"
      ]
    },
    {
      "cell_type": "code",
      "metadata": {
        "id": "se5J3Q5oRbfB"
      },
      "source": [
        "# number of banners\n",
        "num_banner = 5\n",
        "\n",
        "# number of iterations\n",
        "no_of_iterations = 1000\n",
        "\n",
        "# list for storing banners which are selected\n",
        "banner_selected = [] #선택된 배너 저장할 변수\n",
        "\n",
        "# count number of times the banner was selected\n",
        "count = np.zeros(num_banner) # 각각의 배너가 선택된 횟수를 저장\n",
        "\n",
        "# Q value of the banner\n",
        "Q = np.zeros(num_banner) # 평균 보상이 들어갈 변수\n",
        "\n",
        "# sum of rewards obtained by the banner\n",
        "sum_rewards = np.zeros(num_banner) # 보상을 저장할 변수"
      ],
      "execution_count": null,
      "outputs": []
    },
    {
      "cell_type": "markdown",
      "metadata": {
        "id": "VxkN7eHmRbfC"
      },
      "source": [
        " Now we define the epsilon greedy policy"
      ]
    },
    {
      "cell_type": "code",
      "metadata": {
        "id": "xZx4OI9SRbfC"
      },
      "source": [
        "def epsilon_greedy(epsilon):\n",
        "    \n",
        "    random_value = np.random.random()\n",
        "    choose_random = random_value < epsilon\n",
        "    \n",
        "    if choose_random:\n",
        "        action =  np.random.choice(num_banner)\n",
        "    else:\n",
        "        action = np.argmax(Q)\n",
        "    \n",
        "    return action\n"
      ],
      "execution_count": null,
      "outputs": []
    },
    {
      "cell_type": "code",
      "metadata": {
        "id": "jofprAS8RbfC",
        "colab": {
          "base_uri": "https://localhost:8080/"
        },
        "outputId": "aea76a5d-822e-40d1-dd8f-00706489a2a1"
      },
      "source": [
        "for i in range(no_of_iterations):\n",
        "    \n",
        "    # select the banner using epsilon greedy policy\n",
        "    banner = epsilon_greedy(0.5)\n",
        "        \n",
        "    # get the reward\n",
        "    reward = df.values[i, banner] #banner에 해당되는 열에 값을 reward로 설정한다. \n",
        "           \n",
        "    # update the selected banner count\n",
        "    count[banner] += 1\n",
        "    \n",
        "    # sum the rewards obtained by that banner\n",
        "    sum_rewards[banner]+=reward\n",
        "    \n",
        "    # calculate the Q value of the banner\n",
        "    Q[banner] = sum_rewards[banner]/count[banner] # 누적보상액 평균값\n",
        "    \n",
        "    banner_selected.append(banner)   # 선택된 배너 append 시킨다. \n",
        "   \n",
        "print(Q) # 최종 평균 누적보상액\n",
        "print(count) \n",
        "print(sum_rewards)# reward가장 높은것을 선택하는 것이 좋다. \n",
        "#print(banner_selected)"
      ],
      "execution_count": null,
      "outputs": [
        {
          "output_type": "stream",
          "text": [
            "[0.44329897 0.44736842 0.49324324 0.54150943 0.45045045]\n",
            "[ 97. 114. 148. 530. 111.]\n",
            "[ 43.  51.  73. 287.  50.]\n"
          ],
          "name": "stdout"
        }
      ]
    },
    {
      "cell_type": "markdown",
      "metadata": {
        "id": "hbryT7EvRbfC"
      },
      "source": [
        "We can plot and see which banner type gives us most clicks(rewards)"
      ]
    },
    {
      "cell_type": "code",
      "metadata": {
        "id": "spXWuf00RbfC",
        "colab": {
          "base_uri": "https://localhost:8080/",
          "height": 337
        },
        "outputId": "c5f98b8f-b1af-44fc-8b7a-8f2da43fe629"
      },
      "source": [
        "sns.distplot(banner_selected) # banner가 select된 횟수\n",
        "# reward가 가장 높은 것을 선택하는 것이 효과적이다."
      ],
      "execution_count": null,
      "outputs": [
        {
          "output_type": "stream",
          "text": [
            "/usr/local/lib/python3.7/dist-packages/seaborn/distributions.py:2557: FutureWarning: `distplot` is a deprecated function and will be removed in a future version. Please adapt your code to use either `displot` (a figure-level function with similar flexibility) or `histplot` (an axes-level function for histograms).\n",
            "  warnings.warn(msg, FutureWarning)\n"
          ],
          "name": "stderr"
        },
        {
          "output_type": "execute_result",
          "data": {
            "text/plain": [
              "<matplotlib.axes._subplots.AxesSubplot at 0x7f2a3663c310>"
            ]
          },
          "metadata": {
            "tags": []
          },
          "execution_count": 33
        },
        {
          "output_type": "display_data",
          "data": {
            "image/png": "[encoded data removed]",
            "text/plain": [
              "<Figure size 432x288 with 1 Axes>"
            ]
          },
          "metadata": {
            "tags": [],
            "needs_background": "light"
          }
        }
      ]
    },
    {
      "cell_type": "code",
      "metadata": {
        "id": "JcM3uHL5Xyu4"
      },
      "source": [
        ""
      ],
      "execution_count": null,
      "outputs": []
    }
  ]
}